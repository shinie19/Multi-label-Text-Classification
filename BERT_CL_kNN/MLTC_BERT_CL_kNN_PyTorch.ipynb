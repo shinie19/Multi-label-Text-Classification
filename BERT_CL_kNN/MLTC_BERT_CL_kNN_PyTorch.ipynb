{
  "nbformat": 4,
  "nbformat_minor": 0,
  "metadata": {
    "colab": {
      "provenance": []
    },
    "kernelspec": {
      "name": "python3",
      "display_name": "Python 3"
    },
    "language_info": {
      "name": "python"
    },
    "accelerator": "GPU",
    "gpuClass": "standard"
  },
  "cells": [
    {
      "cell_type": "code",
      "execution_count": 1,
      "metadata": {
        "id": "NZtgqCUXPFYl",
        "colab": {
          "base_uri": "https://localhost:8080/"
        },
        "outputId": "f3c9cb02-9dee-4ffa-a932-2bd0e94b8e0c"
      },
      "outputs": [
        {
          "output_type": "stream",
          "name": "stdout",
          "text": [
            "Mounted at /content/drive\n"
          ]
        }
      ],
      "source": [
        "from google.colab import drive\n",
        "drive.mount(\"/content/drive\")"
      ]
    },
    {
      "cell_type": "code",
      "source": [
        "!nvidia-smi"
      ],
      "metadata": {
        "id": "zUk_kuEzPTHW",
        "colab": {
          "base_uri": "https://localhost:8080/"
        },
        "outputId": "846834e1-6daf-47bd-e3d0-0b3480c7f913"
      },
      "execution_count": 2,
      "outputs": [
        {
          "output_type": "stream",
          "name": "stdout",
          "text": [
            "Sun Mar 19 06:03:54 2023       \n",
            "+-----------------------------------------------------------------------------+\n",
            "| NVIDIA-SMI 525.85.12    Driver Version: 525.85.12    CUDA Version: 12.0     |\n",
            "|-------------------------------+----------------------+----------------------+\n",
            "| GPU  Name        Persistence-M| Bus-Id        Disp.A | Volatile Uncorr. ECC |\n",
            "| Fan  Temp  Perf  Pwr:Usage/Cap|         Memory-Usage | GPU-Util  Compute M. |\n",
            "|                               |                      |               MIG M. |\n",
            "|===============================+======================+======================|\n",
            "|   0  Tesla T4            Off  | 00000000:00:04.0 Off |                    0 |\n",
            "| N/A   65C    P0    26W /  70W |      0MiB / 15360MiB |      0%      Default |\n",
            "|                               |                      |                  N/A |\n",
            "+-------------------------------+----------------------+----------------------+\n",
            "                                                                               \n",
            "+-----------------------------------------------------------------------------+\n",
            "| Processes:                                                                  |\n",
            "|  GPU   GI   CI        PID   Type   Process name                  GPU Memory |\n",
            "|        ID   ID                                                   Usage      |\n",
            "|=============================================================================|\n",
            "|  No running processes found                                                 |\n",
            "+-----------------------------------------------------------------------------+\n"
          ]
        }
      ]
    },
    {
      "cell_type": "code",
      "source": [
        "!pip install transformers"
      ],
      "metadata": {
        "id": "ruVq7OspPVic"
      },
      "execution_count": null,
      "outputs": []
    },
    {
      "cell_type": "code",
      "source": [
        "import math\n",
        "import numpy as np\n",
        "import pandas as pd\n",
        "import torch\n",
        "import torch.nn as nn\n",
        "import shutil\n",
        "import sys\n",
        "from sklearn.neighbors import KNeighborsClassifier\n",
        "from sklearn.metrics import accuracy_score, classification_report"
      ],
      "metadata": {
        "id": "rZZNLbzUPXPR"
      },
      "execution_count": 24,
      "outputs": []
    },
    {
      "cell_type": "code",
      "source": [
        "train_path = \"/content/drive/MyDrive/KLTN/Dataset/act/csv/train.csv\"\n",
        "test_path = \"/content/drive/MyDrive/KLTN/Dataset/act/csv/test.csv\""
      ],
      "metadata": {
        "id": "B9fSpFssPcYP"
      },
      "execution_count": 5,
      "outputs": []
    },
    {
      "cell_type": "code",
      "source": [
        "train_df = pd.read_csv(train_path, delimiter=\"\\t\")\n",
        "test_df = pd.read_csv(test_path, delimiter=\"\\t\")"
      ],
      "metadata": {
        "id": "_3CWlU0XPe-Z"
      },
      "execution_count": 6,
      "outputs": []
    },
    {
      "cell_type": "code",
      "source": [
        "label_list = train_df.columns[1:]\n",
        "label_list"
      ],
      "metadata": {
        "id": "iAnZVMscPhVN",
        "colab": {
          "base_uri": "https://localhost:8080/"
        },
        "outputId": "6be0fce5-3132-464c-8960-d89cae017b6c"
      },
      "execution_count": 7,
      "outputs": [
        {
          "output_type": "execute_result",
          "data": {
            "text/plain": [
              "Index(['Attraction-Inform', 'Attraction-NoOffer', 'Attraction-Recommend',\n",
              "       'Attraction-Request', 'Attraction-Select', 'Booking-Book',\n",
              "       'Booking-Inform', 'Booking-NoBook', 'Booking-Request',\n",
              "       'Hospital-Inform', 'Hospital-Request', 'Hotel-Inform', 'Hotel-NoOffer',\n",
              "       'Hotel-Recommend', 'Hotel-Request', 'Hotel-Select', 'Police-Inform',\n",
              "       'Police-Request', 'Restaurant-Inform', 'Restaurant-NoOffer',\n",
              "       'Restaurant-Recommend', 'Restaurant-Request', 'Restaurant-Select',\n",
              "       'Taxi-Inform', 'Taxi-Request', 'Train-Inform', 'Train-NoOffer',\n",
              "       'Train-OfferBook', 'Train-OfferBooked', 'Train-Request', 'Train-Select',\n",
              "       'general-bye', 'general-greet', 'general-reqmore', 'general-thank',\n",
              "       'general-welcome'],\n",
              "      dtype='object')"
            ]
          },
          "metadata": {},
          "execution_count": 7
        }
      ]
    },
    {
      "cell_type": "code",
      "source": [
        "def get_labels(df):\n",
        "    labels = []\n",
        "    for i in range(len(df)):\n",
        "        row = []\n",
        "        for j in label_list:\n",
        "            if ((j in df.columns) and (df.iloc[i][j] == 1)):\n",
        "                row.append(1)\n",
        "            else:\n",
        "                row.append(0)\n",
        "        labels.append(row)\n",
        "    return labels\n",
        "\n",
        "# Y_test = get_labels(test_df)"
      ],
      "metadata": {
        "id": "DabtYlwVPi7v"
      },
      "execution_count": 8,
      "outputs": []
    },
    {
      "cell_type": "code",
      "source": [
        "from transformers import BertTokenizer, BertModel"
      ],
      "metadata": {
        "id": "jKqdbqqcPnAz"
      },
      "execution_count": 9,
      "outputs": []
    },
    {
      "cell_type": "code",
      "source": [
        "MAX_LEN = 256\n",
        "TRAIN_BATCH_SIZE = 32\n",
        "VALID_BATCH_SIZE = 32\n",
        "TEST_BATCH_SIZE = 32\n",
        "EPOCHS = 5\n",
        "LEARNING_RATE = 1e-05"
      ],
      "metadata": {
        "id": "n33Ul__nPo2d"
      },
      "execution_count": 10,
      "outputs": []
    },
    {
      "cell_type": "code",
      "source": [
        "class CustomDataset(torch.utils.data.Dataset):\n",
        "    def __init__(self, df, tokenizer, max_len, is_test_df):\n",
        "        self.df = df\n",
        "        self.tokenizer = tokenizer\n",
        "        self.max_len = max_len\n",
        "        self.text = self.df['utterance']\n",
        "        if (is_test_df):\n",
        "            self.labels = get_labels(self.df)\n",
        "        else:\n",
        "            self.labels = self.df[label_list].values\n",
        "\n",
        "    def __len__(self):\n",
        "        return len(self.text)\n",
        "\n",
        "    def __getitem__(self, index):\n",
        "        text = str(self.text[index])\n",
        "        text = \" \".join(text.split())\n",
        "\n",
        "        inputs = self.tokenizer.encode_plus(\n",
        "            text,\n",
        "            None,\n",
        "            add_special_tokens=True,\n",
        "            max_length=self.max_len,\n",
        "            padding='max_length',\n",
        "            return_token_type_ids=True,\n",
        "            truncation=True,\n",
        "            return_attention_mask=True,\n",
        "            return_tensors='pt'\n",
        "        )\n",
        "\n",
        "        return {\n",
        "            'input_ids': inputs['input_ids'].flatten(),\n",
        "            'attention_mask': inputs['attention_mask'].flatten(),\n",
        "            'token_type_ids': inputs[\"token_type_ids\"].flatten(),\n",
        "            'labels': torch.FloatTensor(self.labels[index])\n",
        "        }"
      ],
      "metadata": {
        "id": "0j8HaD6kPqqf"
      },
      "execution_count": 11,
      "outputs": []
    },
    {
      "cell_type": "code",
      "source": [
        "class BERTClassifier(nn.Module):\n",
        "    def __init__(self, num_labels):\n",
        "        super(BERTClassifier, self).__init__()\n",
        "        self.bert_model = BertModel.from_pretrained('bert-base-uncased', return_dict=True)\n",
        "        self.dropout = nn.Dropout(0.1)\n",
        "        self.fc = nn.Linear(self.bert_model.config.hidden_size, num_labels)\n",
        "\n",
        "    def forward(self, input_ids, attention_mask, token_type_ids):\n",
        "        outputs = self.bert_model(input_ids=input_ids, attention_mask=attention_mask, token_type_ids=token_type_ids)\n",
        "        pooled_output = outputs['pooler_output']\n",
        "        pooled_output = self.dropout(pooled_output)\n",
        "        logits = self.fc(pooled_output)\n",
        "        return logits"
      ],
      "metadata": {
        "id": "etPqGzrWPsPx"
      },
      "execution_count": 12,
      "outputs": []
    },
    {
      "cell_type": "code",
      "source": [
        "def distance(tensor1, tensor2):\n",
        "    list1 = tensor1.tolist()\n",
        "    list2 = tensor2.tolist()\n",
        "\n",
        "    \"\"\"Distance between two vectors.\"\"\"\n",
        "    squares = [(p-q) ** 2 for p, q in zip(list1, list2)]\n",
        "    return sum(squares) ** .5"
      ],
      "metadata": {
        "id": "OidXoh8CPt3P"
      },
      "execution_count": 13,
      "outputs": []
    },
    {
      "cell_type": "code",
      "source": [
        "def contrastive_loss(batch, logits, temperature):\n",
        "    contrastive_loss = 0\n",
        "    for i in range(len(batch['input_ids'])):\n",
        "        sum_labels = 0\n",
        "        sum_distances = 0\n",
        "        for k in range(len(batch['input_ids'])):\n",
        "            if (i != k):\n",
        "                sum_labels += torch.matmul(batch['labels'][i].t(), batch['labels'][k]).item()\n",
        "                sum_distances += math.exp((-1)*distance(logits[i], logits[k])/temperature)\n",
        "        for j in range(len(batch['input_ids'])):\n",
        "            if (i != j):\n",
        "                if (sum_labels == 0):\n",
        "                    sum_labels = 1e-06\n",
        "                contrastive_loss += (torch.matmul(batch['labels'][i].t(), batch['labels'][j]).item() / sum_labels) * math.log((math.exp((-1)*distance(logits[i], logits[j])/temperature)) / sum_distances)\n",
        "\n",
        "    return (-1)*contrastive_loss\n"
      ],
      "metadata": {
        "id": "71QWsMwzPxyr"
      },
      "execution_count": 14,
      "outputs": []
    },
    {
      "cell_type": "code",
      "source": [
        "def predict(model, dataloader, device):\n",
        "    model.eval()\n",
        "    predictions = []\n",
        "    with torch.no_grad():\n",
        "        for batch in dataloader:\n",
        "            input_ids = batch['input_ids'].to(device, dtype = torch.long)\n",
        "            attention_mask = batch['attention_mask'].to(device, dtype = torch.long)\n",
        "            token_type_ids = batch['token_type_ids'].to(device, dtype = torch.long)\n",
        "\n",
        "            logits = model(input_ids, attention_mask, token_type_ids)\n",
        "\n",
        "            predictions.append(torch.sigmoid(logits).cpu().detach().numpy())\n",
        "    return np.concatenate(predictions)"
      ],
      "metadata": {
        "id": "LK1XKcuwP6sZ"
      },
      "execution_count": 15,
      "outputs": []
    },
    {
      "cell_type": "code",
      "source": [
        "def load_checkpoint(checkpoint_path, model, optimizer):\n",
        "    \"\"\"\n",
        "    checkpoint_path: path to save checkpoint\n",
        "    model: model that we want to load checkpoint parameters into       \n",
        "    optimizer: optimizer we defined in previous training\n",
        "    \"\"\"\n",
        "    # Load checkpoint\n",
        "    checkpoint = torch.load(checkpoint_path)\n",
        "    # Initialize state_dict from checkpoint to model\n",
        "    model.load_state_dict(checkpoint['state_dict'])\n",
        "    # Initialize optimizer from checkpoint to optimizer\n",
        "    optimizer.load_state_dict(checkpoint['optimizer'])\n",
        "    # Initialize valid_loss_min from checkpoint to valid_loss_min\n",
        "    valid_loss_min = checkpoint['valid_loss_min']\n",
        "    # Return model, optimizer, epoch value, min validation loss \n",
        "    return model, optimizer, checkpoint['epoch'], valid_loss_min\n",
        "\n",
        "def save_checkpoint(state, is_best, checkpoint_path, best_model_path):\n",
        "    \"\"\"\n",
        "    state: checkpoint we want to save\n",
        "    is_best: is this the best checkpoint; min validation loss\n",
        "    checkpoint_path: path to save checkpoint\n",
        "    best_model_path: path to save best model\n",
        "    \"\"\"\n",
        "    f_path = checkpoint_path\n",
        "    # save checkpoint data to the path given, checkpoint_path\n",
        "    torch.save(state, f_path)\n",
        "    # if it is a best model, min validation loss\n",
        "    if is_best:\n",
        "        best_fpath = best_model_path\n",
        "        # copy that checkpoint file to best path given, best_model_path\n",
        "        shutil.copyfile(f_path, best_fpath)"
      ],
      "metadata": {
        "id": "RxR0Y19TP8bY"
      },
      "execution_count": 16,
      "outputs": []
    },
    {
      "cell_type": "markdown",
      "source": [
        "**Main:**"
      ],
      "metadata": {
        "id": "eHjfuAdNQDIv"
      }
    },
    {
      "cell_type": "code",
      "source": [
        "device = torch.device('cuda') if torch.cuda.is_available() else torch.device('cpu')\n",
        "device"
      ],
      "metadata": {
        "id": "JIeknhtkP-xx",
        "colab": {
          "base_uri": "https://localhost:8080/"
        },
        "outputId": "fbc20bd7-ee2c-4608-f159-75fa6eb5e45b"
      },
      "execution_count": 17,
      "outputs": [
        {
          "output_type": "execute_result",
          "data": {
            "text/plain": [
              "device(type='cuda')"
            ]
          },
          "metadata": {},
          "execution_count": 17
        }
      ]
    },
    {
      "cell_type": "code",
      "source": [
        "# Initialize tokenizer and model\n",
        "tokenizer = BertTokenizer.from_pretrained('bert-base-uncased')\n",
        "model = BERTClassifier(len(label_list))\n",
        "model.to(device)"
      ],
      "metadata": {
        "id": "nxyvRFMEQE-t"
      },
      "execution_count": null,
      "outputs": []
    },
    {
      "cell_type": "code",
      "source": [
        "# Initialize optimizer and loss function\n",
        "optimizer = torch.optim.Adam(params=model.parameters(), lr=LEARNING_RATE)\n",
        "criterion = torch.nn.BCEWithLogitsLoss()"
      ],
      "metadata": {
        "id": "tZHlDEnyQGrf"
      },
      "execution_count": 19,
      "outputs": []
    },
    {
      "cell_type": "code",
      "source": [
        "# Load data\n",
        "train_size = 0.8\n",
        "train_df2 = train_df.sample(frac=train_size, random_state=200)\n",
        "val_df = train_df.drop(train_df2.index).reset_index(drop=True)\n",
        "train_df=train_df2.reset_index(drop=True)\n",
        "\n",
        "train_dataset = CustomDataset(train_df, tokenizer, MAX_LEN, False)\n",
        "train_dataloader = torch.utils.data.DataLoader(train_dataset, batch_size=TRAIN_BATCH_SIZE, shuffle=True, num_workers=0)\n",
        "\n",
        "valid_dataset = CustomDataset(val_df, tokenizer, MAX_LEN, False)\n",
        "valid_dataloader = torch.utils.data.DataLoader(valid_dataset, batch_size=VALID_BATCH_SIZE, shuffle=False, num_workers=0)\n",
        "\n",
        "test_dataset = CustomDataset(test_df, tokenizer, MAX_LEN, True)\n",
        "test_dataloader = torch.utils.data.DataLoader(test_dataset, batch_size=TEST_BATCH_SIZE, shuffle=False, num_workers=0)"
      ],
      "metadata": {
        "id": "Wtj9w_51QIUK"
      },
      "execution_count": 20,
      "outputs": []
    },
    {
      "cell_type": "markdown",
      "source": [
        "**K-Nearest Neighbors Classification:**"
      ],
      "metadata": {
        "id": "nvilXXkXQf9k"
      }
    },
    {
      "cell_type": "code",
      "source": [
        "# Load the model\n",
        "checkpoint_path = \"/content/drive/MyDrive/KLTN/Model/BERT_CL/best_model.pt\"\n",
        "\n",
        "model, optimizer, epoch, loss = load_checkpoint(checkpoint_path, model, optimizer)"
      ],
      "metadata": {
        "id": "rSAdyLvxQiYx"
      },
      "execution_count": 21,
      "outputs": []
    },
    {
      "cell_type": "code",
      "source": [
        "def get_features_and_labels(model, dataloader, device):\n",
        "    model.eval()\n",
        "    features = []\n",
        "    labels = []\n",
        "\n",
        "    with torch.no_grad():\n",
        "        for batch in dataloader:\n",
        "            input_ids = batch['input_ids'].to(device, dtype = torch.long)\n",
        "            attention_mask = batch['attention_mask'].to(device, dtype = torch.long)\n",
        "            token_type_ids = batch['token_type_ids'].to(device, dtype = torch.long)\n",
        "\n",
        "            labels.append(batch['labels'])\n",
        "\n",
        "            last_hidden_states = model(input_ids, attention_mask, token_type_ids).cpu().numpy()\n",
        "            \n",
        "            features.append(last_hidden_states)\n",
        "    return np.concatenate(features), np.concatenate(labels)"
      ],
      "metadata": {
        "id": "EA6Kvn69Qrzt"
      },
      "execution_count": 22,
      "outputs": []
    },
    {
      "cell_type": "code",
      "source": [
        "train_features, train_labels = get_features_and_labels(model, train_dataloader, device)"
      ],
      "metadata": {
        "id": "bttmCqktQsox"
      },
      "execution_count": 23,
      "outputs": []
    },
    {
      "cell_type": "code",
      "source": [
        "test_features, test_labels = get_features_and_labels(model, test_dataloader, device)"
      ],
      "metadata": {
        "id": "I9Pv141SQvfF"
      },
      "execution_count": 25,
      "outputs": []
    },
    {
      "cell_type": "code",
      "source": [
        "# Create KNN Classifier object\n",
        "knn = KNeighborsClassifier(n_neighbors=10, metric='euclidean')\n",
        "\n",
        "# Train the model using the training sets\n",
        "knn.fit(train_features, train_labels)"
      ],
      "metadata": {
        "id": "Nmg8Jd2pQw6z",
        "colab": {
          "base_uri": "https://localhost:8080/",
          "height": 74
        },
        "outputId": "4c9ba9f9-cac7-4087-8caa-63b1c3fa6bba"
      },
      "execution_count": 36,
      "outputs": [
        {
          "output_type": "execute_result",
          "data": {
            "text/plain": [
              "KNeighborsClassifier(metric='euclidean', n_neighbors=10)"
            ],
            "text/html": [
              "<style>#sk-container-id-2 {color: black;background-color: white;}#sk-container-id-2 pre{padding: 0;}#sk-container-id-2 div.sk-toggleable {background-color: white;}#sk-container-id-2 label.sk-toggleable__label {cursor: pointer;display: block;width: 100%;margin-bottom: 0;padding: 0.3em;box-sizing: border-box;text-align: center;}#sk-container-id-2 label.sk-toggleable__label-arrow:before {content: \"▸\";float: left;margin-right: 0.25em;color: #696969;}#sk-container-id-2 label.sk-toggleable__label-arrow:hover:before {color: black;}#sk-container-id-2 div.sk-estimator:hover label.sk-toggleable__label-arrow:before {color: black;}#sk-container-id-2 div.sk-toggleable__content {max-height: 0;max-width: 0;overflow: hidden;text-align: left;background-color: #f0f8ff;}#sk-container-id-2 div.sk-toggleable__content pre {margin: 0.2em;color: black;border-radius: 0.25em;background-color: #f0f8ff;}#sk-container-id-2 input.sk-toggleable__control:checked~div.sk-toggleable__content {max-height: 200px;max-width: 100%;overflow: auto;}#sk-container-id-2 input.sk-toggleable__control:checked~label.sk-toggleable__label-arrow:before {content: \"▾\";}#sk-container-id-2 div.sk-estimator input.sk-toggleable__control:checked~label.sk-toggleable__label {background-color: #d4ebff;}#sk-container-id-2 div.sk-label input.sk-toggleable__control:checked~label.sk-toggleable__label {background-color: #d4ebff;}#sk-container-id-2 input.sk-hidden--visually {border: 0;clip: rect(1px 1px 1px 1px);clip: rect(1px, 1px, 1px, 1px);height: 1px;margin: -1px;overflow: hidden;padding: 0;position: absolute;width: 1px;}#sk-container-id-2 div.sk-estimator {font-family: monospace;background-color: #f0f8ff;border: 1px dotted black;border-radius: 0.25em;box-sizing: border-box;margin-bottom: 0.5em;}#sk-container-id-2 div.sk-estimator:hover {background-color: #d4ebff;}#sk-container-id-2 div.sk-parallel-item::after {content: \"\";width: 100%;border-bottom: 1px solid gray;flex-grow: 1;}#sk-container-id-2 div.sk-label:hover label.sk-toggleable__label {background-color: #d4ebff;}#sk-container-id-2 div.sk-serial::before {content: \"\";position: absolute;border-left: 1px solid gray;box-sizing: border-box;top: 0;bottom: 0;left: 50%;z-index: 0;}#sk-container-id-2 div.sk-serial {display: flex;flex-direction: column;align-items: center;background-color: white;padding-right: 0.2em;padding-left: 0.2em;position: relative;}#sk-container-id-2 div.sk-item {position: relative;z-index: 1;}#sk-container-id-2 div.sk-parallel {display: flex;align-items: stretch;justify-content: center;background-color: white;position: relative;}#sk-container-id-2 div.sk-item::before, #sk-container-id-2 div.sk-parallel-item::before {content: \"\";position: absolute;border-left: 1px solid gray;box-sizing: border-box;top: 0;bottom: 0;left: 50%;z-index: -1;}#sk-container-id-2 div.sk-parallel-item {display: flex;flex-direction: column;z-index: 1;position: relative;background-color: white;}#sk-container-id-2 div.sk-parallel-item:first-child::after {align-self: flex-end;width: 50%;}#sk-container-id-2 div.sk-parallel-item:last-child::after {align-self: flex-start;width: 50%;}#sk-container-id-2 div.sk-parallel-item:only-child::after {width: 0;}#sk-container-id-2 div.sk-dashed-wrapped {border: 1px dashed gray;margin: 0 0.4em 0.5em 0.4em;box-sizing: border-box;padding-bottom: 0.4em;background-color: white;}#sk-container-id-2 div.sk-label label {font-family: monospace;font-weight: bold;display: inline-block;line-height: 1.2em;}#sk-container-id-2 div.sk-label-container {text-align: center;}#sk-container-id-2 div.sk-container {/* jupyter's `normalize.less` sets `[hidden] { display: none; }` but bootstrap.min.css set `[hidden] { display: none !important; }` so we also need the `!important` here to be able to override the default hidden behavior on the sphinx rendered scikit-learn.org. See: https://github.com/scikit-learn/scikit-learn/issues/21755 */display: inline-block !important;position: relative;}#sk-container-id-2 div.sk-text-repr-fallback {display: none;}</style><div id=\"sk-container-id-2\" class=\"sk-top-container\"><div class=\"sk-text-repr-fallback\"><pre>KNeighborsClassifier(metric=&#x27;euclidean&#x27;, n_neighbors=10)</pre><b>In a Jupyter environment, please rerun this cell to show the HTML representation or trust the notebook. <br />On GitHub, the HTML representation is unable to render, please try loading this page with nbviewer.org.</b></div><div class=\"sk-container\" hidden><div class=\"sk-item\"><div class=\"sk-estimator sk-toggleable\"><input class=\"sk-toggleable__control sk-hidden--visually\" id=\"sk-estimator-id-2\" type=\"checkbox\" checked><label for=\"sk-estimator-id-2\" class=\"sk-toggleable__label sk-toggleable__label-arrow\">KNeighborsClassifier</label><div class=\"sk-toggleable__content\"><pre>KNeighborsClassifier(metric=&#x27;euclidean&#x27;, n_neighbors=10)</pre></div></div></div></div></div>"
            ]
          },
          "metadata": {},
          "execution_count": 36
        }
      ]
    },
    {
      "cell_type": "code",
      "source": [
        "# Find the distances and indices of the k-neighbors of each point\n",
        "distances, indices = knn.kneighbors(test_features)"
      ],
      "metadata": {
        "id": "oWZFFSx1QzC1"
      },
      "execution_count": 37,
      "outputs": []
    },
    {
      "cell_type": "code",
      "source": [
        "# Define custom weight function\n",
        "def my_weight_func(distances, temperature):\n",
        "    weights = []\n",
        "\n",
        "    for i in distances:\n",
        "        weights_item = []\n",
        "        \n",
        "        denominator = 0\n",
        "        for j in i:\n",
        "            denominator += math.exp((-1)*(j)/temperature)\n",
        "\n",
        "        for k in i:\n",
        "            numerator = math.exp((-1)*(k)/temperature)\n",
        "            alpha = numerator / denominator\n",
        "            weights_item.append(alpha)\n",
        "\n",
        "        weights.append(weights_item)\n",
        "\n",
        "    return np.array(weights)"
      ],
      "metadata": {
        "id": "AfgmQ3-PQ08_"
      },
      "execution_count": 38,
      "outputs": []
    },
    {
      "cell_type": "code",
      "source": [
        "# Compute weights for each test point\n",
        "weights = my_weight_func(distances, 1)"
      ],
      "metadata": {
        "id": "x82TFI6dQ4C_"
      },
      "execution_count": 39,
      "outputs": []
    },
    {
      "cell_type": "code",
      "source": [
        "# Compute the weighted sum of the y values for each test point\n",
        "y_pred_KNN = np.zeros((test_features.shape[0], train_features.shape[1]))\n",
        "for i in range(test_features.shape[0]):\n",
        "    for j in range(indices.shape[1]):\n",
        "        y_pred_KNN[i] += weights[i, j] * knn._y[indices[i, j]]"
      ],
      "metadata": {
        "id": "amKeJ-ZOQ539"
      },
      "execution_count": 40,
      "outputs": []
    },
    {
      "cell_type": "code",
      "source": [
        "# Print the predicted y values\n",
        "print(\"Predicted y values:\", y_pred_KNN)"
      ],
      "metadata": {
        "id": "tiXiMgU2Q8ve",
        "colab": {
          "base_uri": "https://localhost:8080/"
        },
        "outputId": "6367d164-13a4-4944-dfbf-20784d185d30"
      },
      "execution_count": 41,
      "outputs": [
        {
          "output_type": "stream",
          "name": "stdout",
          "text": [
            "Predicted y values: [[0.         0.         0.         ... 0.         0.         0.        ]\n",
            " [0.         0.         0.         ... 0.         0.         0.        ]\n",
            " [0.         0.         0.         ... 0.         0.         0.        ]\n",
            " ...\n",
            " [1.         0.         0.         ... 1.         0.         0.        ]\n",
            " [0.         0.         0.         ... 0.         1.         0.        ]\n",
            " [0.         0.         0.         ... 0.         0.11170794 0.16592424]]\n"
          ]
        }
      ]
    },
    {
      "cell_type": "code",
      "source": [
        "# Evaluate KNN model\n",
        "threshold = 0.5\n",
        "\n",
        "y_true = test_labels\n",
        "y_pred = y_pred_KNN\n",
        "\n",
        "for item in y_pred:\n",
        "    for j in range(len(y_pred[0])):\n",
        "        if (item[j] > threshold):\n",
        "            item[j] = 1\n",
        "        else:\n",
        "            item[j] = 0\n",
        "\n",
        "print(\"Test Accuracy : {}\".format(accuracy_score(y_true, y_pred)))\n",
        "print(\"\\nClassification Report : \")\n",
        "print(classification_report(y_true, y_pred, target_names=label_list))"
      ],
      "metadata": {
        "id": "ccNKilBnQ-yI",
        "colab": {
          "base_uri": "https://localhost:8080/"
        },
        "outputId": "eac02c7c-c0d0-49c9-b993-d145cd79912a"
      },
      "execution_count": 42,
      "outputs": [
        {
          "output_type": "stream",
          "name": "stdout",
          "text": [
            "Test Accuracy : 0.781334780249593\n",
            "\n",
            "Classification Report : \n",
            "                      precision    recall  f1-score   support\n",
            "\n",
            "   Attraction-Inform       0.91      0.89      0.90      1522\n",
            "  Attraction-NoOffer       0.90      0.87      0.88        60\n",
            "Attraction-Recommend       0.66      0.64      0.65       148\n",
            "  Attraction-Request       0.81      0.71      0.75       676\n",
            "   Attraction-Select       0.63      0.56      0.60        55\n",
            "        Booking-Book       0.89      0.97      0.93       537\n",
            "      Booking-Inform       0.92      0.90      0.91       564\n",
            "      Booking-NoBook       0.96      0.95      0.96       131\n",
            "     Booking-Request       0.93      0.93      0.93       321\n",
            "     Hospital-Inform       0.00      0.00      0.00         0\n",
            "    Hospital-Request       0.00      0.00      0.00         0\n",
            "        Hotel-Inform       0.89      0.89      0.89      2156\n",
            "       Hotel-NoOffer       0.85      0.84      0.84        67\n",
            "     Hotel-Recommend       0.74      0.62      0.67       140\n",
            "       Hotel-Request       0.77      0.68      0.72       577\n",
            "        Hotel-Select       0.60      0.65      0.62        80\n",
            "       Police-Inform       0.50      1.00      0.67         3\n",
            "      Police-Request       0.00      0.00      0.00         0\n",
            "   Restaurant-Inform       0.89      0.90      0.89      2061\n",
            "  Restaurant-NoOffer       0.89      0.94      0.91       111\n",
            "Restaurant-Recommend       0.73      0.59      0.65       145\n",
            "  Restaurant-Request       0.74      0.68      0.71       583\n",
            "   Restaurant-Select       0.75      0.67      0.71        87\n",
            "         Taxi-Inform       0.95      0.91      0.93       604\n",
            "        Taxi-Request       0.83      0.78      0.80       236\n",
            "        Train-Inform       0.95      0.95      0.95      2401\n",
            "       Train-NoOffer       0.80      0.89      0.84         9\n",
            "     Train-OfferBook       0.91      0.85      0.88       380\n",
            "   Train-OfferBooked       0.96      0.80      0.88       297\n",
            "       Train-Request       0.91      0.89      0.90      1077\n",
            "        Train-Select       0.48      0.43      0.45        35\n",
            "         general-bye       0.89      0.97      0.93      1195\n",
            "       general-greet       0.24      0.03      0.05       240\n",
            "     general-reqmore       0.88      0.90      0.89      1439\n",
            "       general-thank       0.97      0.95      0.96       940\n",
            "     general-welcome       0.73      0.68      0.70       503\n",
            "\n",
            "           micro avg       0.89      0.86      0.87     19380\n",
            "           macro avg       0.74      0.72      0.72     19380\n",
            "        weighted avg       0.88      0.86      0.87     19380\n",
            "         samples avg       0.87      0.86      0.86     19380\n",
            "\n"
          ]
        },
        {
          "output_type": "stream",
          "name": "stderr",
          "text": [
            "/usr/local/lib/python3.9/dist-packages/sklearn/metrics/_classification.py:1344: UndefinedMetricWarning: Precision and F-score are ill-defined and being set to 0.0 in labels with no predicted samples. Use `zero_division` parameter to control this behavior.\n",
            "  _warn_prf(average, modifier, msg_start, len(result))\n",
            "/usr/local/lib/python3.9/dist-packages/sklearn/metrics/_classification.py:1344: UndefinedMetricWarning: Recall and F-score are ill-defined and being set to 0.0 in labels with no true samples. Use `zero_division` parameter to control this behavior.\n",
            "  _warn_prf(average, modifier, msg_start, len(result))\n",
            "/usr/local/lib/python3.9/dist-packages/sklearn/metrics/_classification.py:1344: UndefinedMetricWarning: Precision and F-score are ill-defined and being set to 0.0 in samples with no predicted labels. Use `zero_division` parameter to control this behavior.\n",
            "  _warn_prf(average, modifier, msg_start, len(result))\n",
            "/usr/local/lib/python3.9/dist-packages/sklearn/metrics/_classification.py:1344: UndefinedMetricWarning: Recall and F-score are ill-defined and being set to 0.0 in samples with no true labels. Use `zero_division` parameter to control this behavior.\n",
            "  _warn_prf(average, modifier, msg_start, len(result))\n"
          ]
        }
      ]
    },
    {
      "cell_type": "code",
      "source": [
        "# Combine 3 models: BERT + CL + kNN\n",
        "lamb = 0.5\n",
        "\n",
        "y_pred_BERT_CL = predict(model, test_dataloader, device)\n",
        "y_pred_KNN\n",
        "\n",
        "output = np.add(np.multiply(lamb, y_pred_KNN), np.multiply((1 - lamb), y_pred_BERT_CL))"
      ],
      "metadata": {
        "id": "BpSKT3M6RClJ"
      },
      "execution_count": 43,
      "outputs": []
    },
    {
      "cell_type": "code",
      "source": [
        "# Evaluate BERT + CL\n",
        "threshold = 0.5\n",
        "\n",
        "y_true = test_labels\n",
        "y_pred = y_pred_BERT_CL\n",
        "\n",
        "for item in y_pred:\n",
        "    for j in range(len(y_pred[0])):\n",
        "        if (item[j] > threshold):\n",
        "            item[j] = 1\n",
        "        else:\n",
        "            item[j] = 0\n",
        "\n",
        "print(\"Test Accuracy : {}\".format(accuracy_score(y_true, y_pred)))\n",
        "print(\"\\nClassification Report : \")\n",
        "print(classification_report(y_true, y_pred, target_names=label_list))"
      ],
      "metadata": {
        "id": "IZtH0N6QRN1P",
        "colab": {
          "base_uri": "https://localhost:8080/"
        },
        "outputId": "89255a0b-378f-4b40-b1c1-8e1e53875bf6"
      },
      "execution_count": 44,
      "outputs": [
        {
          "output_type": "stream",
          "name": "stdout",
          "text": [
            "Test Accuracy : 0.7777400976668475\n",
            "\n",
            "Classification Report : \n",
            "                      precision    recall  f1-score   support\n",
            "\n",
            "   Attraction-Inform       0.92      0.88      0.90      1522\n",
            "  Attraction-NoOffer       0.92      0.80      0.86        60\n",
            "Attraction-Recommend       0.71      0.66      0.69       148\n",
            "  Attraction-Request       0.81      0.69      0.74       676\n",
            "   Attraction-Select       0.64      0.53      0.58        55\n",
            "        Booking-Book       0.89      0.97      0.93       537\n",
            "      Booking-Inform       0.93      0.89      0.91       564\n",
            "      Booking-NoBook       0.98      0.95      0.97       131\n",
            "     Booking-Request       0.94      0.93      0.94       321\n",
            "     Hospital-Inform       0.00      0.00      0.00         0\n",
            "    Hospital-Request       0.00      0.00      0.00         0\n",
            "        Hotel-Inform       0.89      0.89      0.89      2156\n",
            "       Hotel-NoOffer       0.95      0.79      0.86        67\n",
            "     Hotel-Recommend       0.70      0.70      0.70       140\n",
            "       Hotel-Request       0.80      0.67      0.73       577\n",
            "        Hotel-Select       0.65      0.68      0.66        80\n",
            "       Police-Inform       0.60      1.00      0.75         3\n",
            "      Police-Request       0.00      0.00      0.00         0\n",
            "   Restaurant-Inform       0.88      0.90      0.89      2061\n",
            "  Restaurant-NoOffer       0.83      0.98      0.90       111\n",
            "Restaurant-Recommend       0.77      0.59      0.67       145\n",
            "  Restaurant-Request       0.77      0.66      0.71       583\n",
            "   Restaurant-Select       0.77      0.67      0.72        87\n",
            "         Taxi-Inform       0.95      0.91      0.93       604\n",
            "        Taxi-Request       0.85      0.75      0.80       236\n",
            "        Train-Inform       0.95      0.94      0.95      2401\n",
            "       Train-NoOffer       0.83      0.56      0.67         9\n",
            "     Train-OfferBook       0.93      0.86      0.89       380\n",
            "   Train-OfferBooked       0.96      0.79      0.87       297\n",
            "       Train-Request       0.91      0.90      0.90      1077\n",
            "        Train-Select       0.79      0.31      0.45        35\n",
            "         general-bye       0.89      0.97      0.93      1195\n",
            "       general-greet       0.67      0.02      0.03       240\n",
            "     general-reqmore       0.88      0.92      0.90      1439\n",
            "       general-thank       0.98      0.95      0.96       940\n",
            "     general-welcome       0.71      0.75      0.73       503\n",
            "\n",
            "           micro avg       0.89      0.86      0.88     19380\n",
            "           macro avg       0.77      0.71      0.72     19380\n",
            "        weighted avg       0.89      0.86      0.87     19380\n",
            "         samples avg       0.86      0.86      0.85     19380\n",
            "\n"
          ]
        },
        {
          "output_type": "stream",
          "name": "stderr",
          "text": [
            "/usr/local/lib/python3.9/dist-packages/sklearn/metrics/_classification.py:1344: UndefinedMetricWarning: Precision and F-score are ill-defined and being set to 0.0 in labels with no predicted samples. Use `zero_division` parameter to control this behavior.\n",
            "  _warn_prf(average, modifier, msg_start, len(result))\n",
            "/usr/local/lib/python3.9/dist-packages/sklearn/metrics/_classification.py:1344: UndefinedMetricWarning: Recall and F-score are ill-defined and being set to 0.0 in labels with no true samples. Use `zero_division` parameter to control this behavior.\n",
            "  _warn_prf(average, modifier, msg_start, len(result))\n",
            "/usr/local/lib/python3.9/dist-packages/sklearn/metrics/_classification.py:1344: UndefinedMetricWarning: Precision and F-score are ill-defined and being set to 0.0 in samples with no predicted labels. Use `zero_division` parameter to control this behavior.\n",
            "  _warn_prf(average, modifier, msg_start, len(result))\n",
            "/usr/local/lib/python3.9/dist-packages/sklearn/metrics/_classification.py:1344: UndefinedMetricWarning: Recall and F-score are ill-defined and being set to 0.0 in samples with no true labels. Use `zero_division` parameter to control this behavior.\n",
            "  _warn_prf(average, modifier, msg_start, len(result))\n"
          ]
        }
      ]
    },
    {
      "cell_type": "code",
      "source": [
        "# Evaluate BERT + CL + kNN\n",
        "threshold = 0.5\n",
        "\n",
        "y_true = test_labels\n",
        "y_pred = output\n",
        "\n",
        "for item in y_pred:\n",
        "    for j in range(len(y_pred[0])):\n",
        "        if (item[j] > threshold):\n",
        "            item[j] = 1\n",
        "        else:\n",
        "            item[j] = 0\n",
        "\n",
        "print(\"Test Accuracy : {}\".format(accuracy_score(y_true, y_pred)))\n",
        "print(\"\\nClassification Report : \")\n",
        "print(classification_report(y_true, y_pred, target_names=label_list))"
      ],
      "metadata": {
        "id": "l2fMRPlfRWiA",
        "colab": {
          "base_uri": "https://localhost:8080/"
        },
        "outputId": "6dc916f5-5b25-4bb8-ed1a-062300478451"
      },
      "execution_count": 45,
      "outputs": [
        {
          "output_type": "stream",
          "name": "stdout",
          "text": [
            "Test Accuracy : 0.781334780249593\n",
            "\n",
            "Classification Report : \n",
            "                      precision    recall  f1-score   support\n",
            "\n",
            "   Attraction-Inform       0.91      0.89      0.90      1522\n",
            "  Attraction-NoOffer       0.90      0.87      0.88        60\n",
            "Attraction-Recommend       0.66      0.64      0.65       148\n",
            "  Attraction-Request       0.81      0.71      0.75       676\n",
            "   Attraction-Select       0.63      0.56      0.60        55\n",
            "        Booking-Book       0.89      0.97      0.93       537\n",
            "      Booking-Inform       0.92      0.90      0.91       564\n",
            "      Booking-NoBook       0.96      0.95      0.96       131\n",
            "     Booking-Request       0.93      0.93      0.93       321\n",
            "     Hospital-Inform       0.00      0.00      0.00         0\n",
            "    Hospital-Request       0.00      0.00      0.00         0\n",
            "        Hotel-Inform       0.89      0.89      0.89      2156\n",
            "       Hotel-NoOffer       0.85      0.84      0.84        67\n",
            "     Hotel-Recommend       0.74      0.62      0.67       140\n",
            "       Hotel-Request       0.77      0.68      0.72       577\n",
            "        Hotel-Select       0.60      0.65      0.62        80\n",
            "       Police-Inform       0.50      1.00      0.67         3\n",
            "      Police-Request       0.00      0.00      0.00         0\n",
            "   Restaurant-Inform       0.89      0.90      0.89      2061\n",
            "  Restaurant-NoOffer       0.89      0.94      0.91       111\n",
            "Restaurant-Recommend       0.73      0.59      0.65       145\n",
            "  Restaurant-Request       0.74      0.68      0.71       583\n",
            "   Restaurant-Select       0.75      0.67      0.71        87\n",
            "         Taxi-Inform       0.95      0.91      0.93       604\n",
            "        Taxi-Request       0.83      0.78      0.80       236\n",
            "        Train-Inform       0.95      0.95      0.95      2401\n",
            "       Train-NoOffer       0.80      0.89      0.84         9\n",
            "     Train-OfferBook       0.91      0.85      0.88       380\n",
            "   Train-OfferBooked       0.96      0.80      0.88       297\n",
            "       Train-Request       0.91      0.89      0.90      1077\n",
            "        Train-Select       0.48      0.43      0.45        35\n",
            "         general-bye       0.89      0.97      0.93      1195\n",
            "       general-greet       0.24      0.03      0.05       240\n",
            "     general-reqmore       0.88      0.90      0.89      1439\n",
            "       general-thank       0.97      0.95      0.96       940\n",
            "     general-welcome       0.73      0.68      0.70       503\n",
            "\n",
            "           micro avg       0.89      0.86      0.87     19380\n",
            "           macro avg       0.74      0.72      0.72     19380\n",
            "        weighted avg       0.88      0.86      0.87     19380\n",
            "         samples avg       0.87      0.86      0.86     19380\n",
            "\n"
          ]
        },
        {
          "output_type": "stream",
          "name": "stderr",
          "text": [
            "/usr/local/lib/python3.9/dist-packages/sklearn/metrics/_classification.py:1344: UndefinedMetricWarning: Precision and F-score are ill-defined and being set to 0.0 in labels with no predicted samples. Use `zero_division` parameter to control this behavior.\n",
            "  _warn_prf(average, modifier, msg_start, len(result))\n",
            "/usr/local/lib/python3.9/dist-packages/sklearn/metrics/_classification.py:1344: UndefinedMetricWarning: Recall and F-score are ill-defined and being set to 0.0 in labels with no true samples. Use `zero_division` parameter to control this behavior.\n",
            "  _warn_prf(average, modifier, msg_start, len(result))\n",
            "/usr/local/lib/python3.9/dist-packages/sklearn/metrics/_classification.py:1344: UndefinedMetricWarning: Precision and F-score are ill-defined and being set to 0.0 in samples with no predicted labels. Use `zero_division` parameter to control this behavior.\n",
            "  _warn_prf(average, modifier, msg_start, len(result))\n",
            "/usr/local/lib/python3.9/dist-packages/sklearn/metrics/_classification.py:1344: UndefinedMetricWarning: Recall and F-score are ill-defined and being set to 0.0 in samples with no true labels. Use `zero_division` parameter to control this behavior.\n",
            "  _warn_prf(average, modifier, msg_start, len(result))\n"
          ]
        }
      ]
    }
  ]
}